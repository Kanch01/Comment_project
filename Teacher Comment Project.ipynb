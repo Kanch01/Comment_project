{
 "cells": [
  {
   "cell_type": "code",
   "execution_count": 0,
   "metadata": {
    "collapsed": false
   },
   "outputs": [
   ],
   "source": [
   ]
  },
  {
   "cell_type": "code",
   "execution_count": 0,
   "metadata": {
    "collapsed": false
   },
   "outputs": [
   ],
   "source": [
   ]
  },
  {
   "cell_type": "code",
   "execution_count": 0,
   "metadata": {
    "collapsed": false
   },
   "outputs": [
   ],
   "source": [
   ]
  },
  {
   "cell_type": "code",
   "execution_count": 77,
   "metadata": {
    "collapsed": false
   },
   "outputs": [
   ],
   "source": [
    "import csv\n",
    "from collections import defaultdict\n",
    "\n",
    "# Course description and course name code\n",
    "\n",
    "def intro(filename, output_file, student_number):\n",
    "    with open(filename) as csvfile:\n",
    "        data = csv.reader(csvfile, delimiter = ',')\n",
    "        next(data)\n",
    "        data2 = [row for row in data]\n",
    "        student = [item for item in data2[student_number - 1]]\n",
    "        description = (\"This semester in {}, {}. \".format(student[1], student[2]))\n",
    "    with open(output_file, 'w') as f:\n",
    "        f.write(description)\n",
    "        \n",
    "def s_and_w(filename, student_number, output_file):\n",
    "    sw = {}\n",
    "    with open(filename) as csvfile:\n",
    "        data = csv.reader(csvfile, delimiter = ',')\n",
    "        next(data)\n",
    "        data2 = [row for row in data]\n",
    "        student = data2[student_number - 1]\n",
    "        name = student[0]\n",
    "        strength_weakness = [(f\"{name}, there are many aspects in which you have excelled and one of those is {student[3]}. {student[4]} was an excellent example. \"),(f\"Though you have shown copious amounts of growth throughout the semester, there are still some areas in which you can grow, such as {student[5]}. {student[6]} is where you can see this come up. \")]\n",
    "        sw[student_number] = sw.get(student_number, []) + strength_weakness\n",
    "\n",
    "    with open(output_file, 'a') as f:\n",
    "        for value in sw.values():\n",
    "            strengths = value[0]\n",
    "            weaknesses = value[1]\n",
    "            f.write(strengths)\n",
    "            f.write(weaknesses)\n",
    "\n",
    "\n",
    "        \n",
    "#takes in the file name, student number, and output file name\n",
    "#appends what the overall grade was, the key goal, and whether the grade improved or got worse throughout the year to the output file\n",
    "def Grades(filename, student_number, output_file):\n",
    "    with open(filename) as csvfile:\n",
    "        data = csv.reader(csvfile, delimiter = ',')\n",
    "        header = next(data)\n",
    "        grades = [row[7:10] for row in data]\n",
    "        #all the grades for this specific student\n",
    "        student_grades = grades[student_number - 1]\n",
    "        #the overall semester grade for this student\n",
    "        overall_grade = student_grades[0]\n",
    "        #the projects grades for this student (needs to take in the percentage, e.g. 94, 75, 42)\n",
    "        project_grades = student_grades[1].split(',')\n",
    "        key_goal = student_grades[2]\n",
    "        #checking if the last grade is bigger or smaller or the same as the first grade\n",
    "        if int(project_grades[0]) < int(project_grades[-1]):\n",
    "            change = 'your grades improved'\n",
    "        if int(project_grades[0]) == int(project_grades[-1]):\n",
    "            change = 'your grades stayed the same'\n",
    "        if int(project_grades[0]) > int(project_grades[-1]):\n",
    "            change = 'your grades got worse'\n",
    "    with open(output_file, 'a') as f:\n",
    "        f.write('Your overall grade for this semester was {}. '.format(overall_grade))\n",
    "        f.write(key_goal + '. ')\n",
    "        f.write('Comparing the first and last project of the year, {} throughout the year. '.format(change))\n",
    "\n",
    "#takes in the file name, student number, and output file name\n",
    "#appends which indicators you did good in and bad in to the output file\n",
    "def Learning_Indicators(filename, student_number, output_file):\n",
    "    with open(filename) as csvfile:\n",
    "        data = csv.reader(csvfile, delimiter = ',')\n",
    "        header = next(data)\n",
    "        scores = [row[10:] for row in data]\n",
    "        learning_indicators = [row[10:] for row in header]\n",
    "        scores = scores[0]\n",
    "        learning_indicators = []\n",
    "        for item in header[10:]:\n",
    "            learning_indicators.append(item)\n",
    "        LI_dict = defaultdict(list)\n",
    "        count = 0\n",
    "        for item in scores:\n",
    "            if item == '4/4':\n",
    "                LI_dict['great'].append(learning_indicators[count])\n",
    "            elif item == '3/4':\n",
    "                LI_dict['good'].append(learning_indicators[count])\n",
    "            elif item == '2/4':\n",
    "                LI_dict['ok'].append(learning_indicators[count])\n",
    "            elif item == '1/4':\n",
    "                LI_dict['bad'].append(learning_indicators[count])\n",
    "            count += 1\n",
    "    with open(output_file, 'a') as f:\n",
    "        LI_string = ''\n",
    "        for item in learning_indicators:\n",
    "            LI_string = str(LI_string + item + ', ')\n",
    "        LI_string = LI_string[0:-2:]\n",
    "        f.write('The learning indicators for this class were {}. '.format(LI_string))\n",
    "        if 'great' in LI_dict:\n",
    "            LI_string = ''\n",
    "            for item in LI_dict['great']:\n",
    "                LI_string = str(LI_string + item + ', ')\n",
    "            LI_string = LI_string[0:-2:]\n",
    "            f.write('You showed a full understanding for {}. '.format(LI_string))\n",
    "        if 'good' in LI_dict:\n",
    "            LI_string = ''\n",
    "            for item in LI_dict['good']:\n",
    "                LI_string = str(LI_string + item + ', ')\n",
    "            LI_string = LI_string[0:-2:]\n",
    "            f.write('You were missing some details for {}. '.format(LI_string))\n",
    "        if 'ok' in LI_dict:\n",
    "            LI_string = ''\n",
    "            for item in LI_dict['ok']:\n",
    "                LI_string = str(LI_string + item + ', ')\n",
    "            LI_string = LI_string[0:-2:]\n",
    "            f.write('You were missing key details for {}. '.format(LI_string))\n",
    "        if 'bad' in LI_dict:\n",
    "            LI_string = ''\n",
    "            for item in LI_dict['bad']:\n",
    "                LI_string = str(LI_string + item + ', ')\n",
    "            LI_string = LI_string[0:-2:]\n",
    "            f.write('You did not understand the concept at all for {}. '.format(LI_string))\n",
    "\n",
    "def Get_Class_Size(filename):\n",
    "    with open(filename) as csvfile:\n",
    "        data = csv.reader(csvfile, delimiter = ',')\n",
    "        header = next(data)\n",
    "        Get_Class_Size.class_size = 0\n",
    "        for row in data:\n",
    "            Get_Class_Size.class_size += 1\n",
    "\n",
    "def Get_Student_Name(filename, student_number):\n",
    "    with open(filename) as csvfile:\n",
    "        data = csv.reader(csvfile, delimiter = ',')\n",
    "        header = next(data)\n",
    "        data2 = [row for row in data]\n",
    "        student = data2[student_number - 1]\n",
    "        Get_Student_Name.student_name = student[0]\n",
    "\n",
    "\n",
    "Get_Class_Size('teacher.csv')\n",
    "student_number = 1\n",
    "for x in range(Get_Class_Size.class_size):\n",
    "    Get_Student_Name('teacher.csv', student_number)\n",
    "    output_file = str('{}.txt'.format(Get_Student_Name.student_name))\n",
    "    intro('teacher.csv', output_file, student_number)\n",
    "    s_and_w('teacher.csv', student_number, output_file)\n",
    "    Learning_Indicators('teacher.csv', student_number, output_file)\n",
    "    Grades('teacher.csv', student_number, output_file)\n",
    "    student_number += 1\n",
    "\n",
    "from nltk.corpus import words\n",
    "\n",
    "word_list = words.words()\n",
    "\n",
    "def spellchecker(outputfile):\n",
    "    with open(outputfile) as csvfile:\n",
    "        data = csv.reader(csvfile, delimiter = ',')\n",
    "        header = next(data)\n",
    "        for row in data:\n",
    "        for word1 in row:\n",
    "            if word1 not in word_list:\n",
    "                print(f\"Please check {word1}, located in row {data.index(row)}, it may be spelled incorrectly\")"
   ]
  },
  {
   "cell_type": "code",
   "execution_count": 0,
   "metadata": {
    "collapsed": false
   },
   "outputs": [
   ],
   "source": [
   ]
  },
  {
   "cell_type": "code",
   "execution_count": 0,
   "metadata": {
    "collapsed": false
   },
   "outputs": [
   ],
   "source": [
   ]
  },
  {
   "cell_type": "code",
   "execution_count": 0,
   "metadata": {
    "collapsed": false
   },
   "outputs": [
   ],
   "source": [
   ]
  },
  {
   "cell_type": "code",
   "execution_count": 0,
   "metadata": {
    "collapsed": false
   },
   "outputs": [
   ],
   "source": [
   ]
  },
  {
   "cell_type": "code",
   "execution_count": 0,
   "metadata": {
    "collapsed": false
   },
   "outputs": [
   ],
   "source": [
   ]
  },
  {
   "cell_type": "code",
   "execution_count": 0,
   "metadata": {
    "collapsed": false
   },
   "outputs": [
   ],
   "source": [
   ]
  },
  {
   "cell_type": "code",
   "execution_count": 0,
   "metadata": {
    "collapsed": false
   },
   "outputs": [
   ],
   "source": [
   ]
  },
  {
   "cell_type": "code",
   "execution_count": 0,
   "metadata": {
    "collapsed": false
   },
   "outputs": [
   ],
   "source": [
   ]
  },
  {
   "cell_type": "code",
   "execution_count": 1,
   "metadata": {
    "cocalc": {
     "outputs": {
      "1": {
       "name": "input",
       "opts": {
        "password": false,
        "prompt": "Downloader> "
       },
       "output_type": "stream",
       "value": "1"
      },
      "11": {
       "name": "input",
       "opts": {
        "password": false,
        "prompt": "Hit Enter to continue: "
       },
       "output_type": "stream",
       "value": ""
      },
      "13": {
       "name": "input",
       "opts": {
        "password": false,
        "prompt": "Hit Enter to continue: "
       },
       "output_type": "stream",
       "value": ""
      },
      "15": {
       "name": "input",
       "opts": {
        "password": false,
        "prompt": "Hit Enter to continue: "
       },
       "output_type": "stream",
       "value": ""
      },
      "17": {
       "name": "input",
       "opts": {
        "password": false,
        "prompt": "Hit Enter to continue: "
       },
       "output_type": "stream",
       "value": ""
      },
      "19": {
       "name": "input",
       "opts": {
        "password": false,
        "prompt": "Downloader> "
       },
       "output_type": "stream",
       "value": "d"
      },
      "20": {
       "name": "input",
       "opts": {
        "password": false,
        "prompt": "  Identifier> "
       },
       "output_type": "stream"
      },
      "24": {
       "name": "input",
       "opts": {
        "password": false,
        "prompt": "Downloader> "
       },
       "output_type": "stream",
       "value": "q"
      },
      "3": {
       "name": "input",
       "opts": {
        "password": false,
        "prompt": "Downloader> "
       },
       "output_type": "stream",
       "value": "List"
      },
      "4": {
       "name": "input",
       "opts": {
        "password": false,
        "prompt": "Downloader> "
       },
       "output_type": "stream"
      },
      "7": {
       "name": "input",
       "opts": {
        "password": false,
        "prompt": "Hit Enter to continue: "
       },
       "output_type": "stream",
       "value": ""
      },
      "8": {
       "name": "input",
       "opts": {
        "password": false,
        "prompt": "Hit Enter to continue: "
       },
       "output_type": "stream"
      }
     }
    },
    "collapsed": false
   },
   "outputs": [
    {
     "name": "stdout",
     "output_type": "stream",
     "text": [
      "NLTK Downloader\n",
      "---------------------------------------------------------------------------\n",
      "    d) Download   l) List    u) Update   c) Config   h) Help   q) Quit\n",
      "---------------------------------------------------------------------------\n"
     ]
    },
    {
     "name": "stdout",
     "output_type": "stream",
     "text": "Downloader>  1"
    },
    {
     "name": "stdout",
     "output_type": "stream",
     "text": [
      "Command '1' unrecognized\n",
      "\n",
      "---------------------------------------------------------------------------\n",
      "    d) Download   l) List    u) Update   c) Config   h) Help   q) Quit\n",
      "---------------------------------------------------------------------------\n"
     ]
    },
    {
     "name": "stdout",
     "output_type": "stream",
     "text": "Downloader>  List"
    },
    {
     "name": "stdout",
     "output_type": "stream",
     "text": "Downloader>  "
    },
    {
     "name": "stdout",
     "output_type": "stream",
     "text": [
      "Command 'List' unrecognized\n",
      "\n",
      "---------------------------------------------------------------------------\n",
      "    d) Download   l) List    u) Update   c) Config   h) Help   q) Quit\n",
      "---------------------------------------------------------------------------\n"
     ],
     "value": "l"
    },
    {
     "name": "stdout",
     "output_type": "stream",
     "text": [
      "\n",
      "Packages:\n",
      "  [ ] abc................. Australian Broadcasting Commission 2006\n",
      "  [ ] alpino.............. Alpino Dutch Treebank\n",
      "  [ ] averaged_perceptron_tagger Averaged Perceptron Tagger\n",
      "  [ ] averaged_perceptron_tagger_ru Averaged Perceptron Tagger (Russian)\n",
      "  [ ] basque_grammars..... Grammars for Basque\n",
      "  [ ] biocreative_ppi..... BioCreAtIvE (Critical Assessment of Information\n",
      "                           Extraction Systems in Biology)\n",
      "  [ ] bllip_wsj_no_aux.... BLLIP Parser: WSJ Model\n",
      "  [ ] book_grammars....... Grammars from NLTK Book\n",
      "  [ ] brown............... Brown Corpus\n",
      "  [ ] brown_tei........... Brown Corpus (TEI XML Version)\n",
      "  [ ] cess_cat............ CESS-CAT Treebank\n",
      "  [ ] cess_esp............ CESS-ESP Treebank\n",
      "  [ ] chat80.............. Chat-80 Data Files\n",
      "  [ ] city_database....... City Database\n",
      "  [ ] cmudict............. The Carnegie Mellon Pronouncing Dictionary (0.6)\n",
      "  [ ] comparative_sentences Comparative Sentence Dataset\n",
      "  [ ] comtrans............ ComTrans Corpus Sample\n",
      "  [ ] conll2000........... CONLL 2000 Chunking Corpus\n",
      "  [ ] conll2002........... CONLL 2002 Named Entity Recognition Corpus\n"
     ]
    },
    {
     "name": "stdout",
     "output_type": "stream",
     "text": "Hit Enter to continue:  "
    },
    {
     "name": "stdout",
     "output_type": "stream",
     "text": "Hit Enter to continue:  "
    },
    {
     "name": "stdout",
     "output_type": "stream",
     "text": [
      "  [ ] conll2007........... Dependency Treebanks from CoNLL 2007 (Catalan\n",
      "                           and Basque Subset)\n",
      "  [ ] crubadan............ Crubadan Corpus\n",
      "  [ ] dependency_treebank. Dependency Parsed Treebank\n",
      "  [ ] dolch............... Dolch Word List\n",
      "  [ ] europarl_raw........ Sample European Parliament Proceedings Parallel\n",
      "                           Corpus\n",
      "  [ ] extended_omw........ Extended Open Multilingual WordNet\n",
      "  [ ] floresta............ Portuguese Treebank\n",
      "  [ ] framenet_v15........ FrameNet 1.5\n",
      "  [ ] framenet_v17........ FrameNet 1.7\n",
      "  [ ] gazetteers.......... Gazeteer Lists\n",
      "  [ ] genesis............. Genesis Corpus\n",
      "  [ ] gutenberg........... Project Gutenberg Selections\n",
      "  [ ] ieer................ NIST IE-ER DATA SAMPLE\n",
      "  [ ] inaugural........... C-Span Inaugural Address Corpus\n",
      "  [ ] indian.............. Indian Language POS-Tagged Corpus\n",
      "  [ ] jeita............... JEITA Public Morphologically Tagged Corpus (in\n",
      "                           ChaSen format)\n",
      "  [ ] kimmo............... PC-KIMMO Data Files\n",
      "  [ ] knbc................ KNB Corpus (Annotated blog corpus)\n"
     ],
     "value": ""
    },
    {
     "name": "stdout",
     "output_type": "stream",
     "text": [
      "  [ ] large_grammars...... Large context-free and feature-based grammars\n",
      "                           for parser comparison\n",
      "  [ ] lin_thesaurus....... Lin's Dependency Thesaurus\n",
      "  [ ] mac_morpho.......... MAC-MORPHO: Brazilian Portuguese news text with\n",
      "                           part-of-speech tags\n",
      "  [ ] machado............. Machado de Assis -- Obra Completa\n",
      "  [ ] masc_tagged......... MASC Tagged Corpus\n",
      "  [ ] maxent_ne_chunker... ACE Named Entity Chunker (Maximum entropy)\n",
      "  [ ] maxent_treebank_pos_tagger Treebank Part of Speech Tagger (Maximum entropy)\n",
      "  [ ] moses_sample........ Moses Sample Models\n",
      "  [ ] movie_reviews....... Sentiment Polarity Dataset Version 2.0\n",
      "  [ ] mte_teip5........... MULTEXT-East 1984 annotated corpus 4.0\n",
      "  [ ] mwa_ppdb............ The monolingual word aligner (Sultan et al.\n",
      "                           2015) subset of the Paraphrase Database.\n",
      "  [ ] names............... Names Corpus, Version 1.3 (1994-03-29)\n",
      "  [ ] nombank.1.0......... NomBank Corpus 1.0\n",
      "  [ ] nonbreaking_prefixes Non-Breaking Prefixes (Moses Decoder)\n",
      "  [ ] nps_chat............ NPS Chat\n",
      "  [ ] omw-1.4............. Open Multilingual Wordnet\n",
      "  [ ] omw................. Open Multilingual Wordnet\n",
      "  [ ] opinion_lexicon..... Opinion Lexicon\n"
     ]
    },
    {
     "name": "stdout",
     "output_type": "stream",
     "text": "Hit Enter to continue:  "
    },
    {
     "name": "stdout",
     "output_type": "stream",
     "text": [
      "  [ ] panlex_swadesh...... PanLex Swadesh Corpora\n",
      "  [ ] paradigms........... Paradigm Corpus\n",
      "  [ ] pe08................ Cross-Framework and Cross-Domain Parser\n",
      "                           Evaluation Shared Task\n",
      "  [ ] perluniprops........ perluniprops: Index of Unicode Version 7.0.0\n",
      "                           character properties in Perl\n",
      "  [ ] pil................. The Patient Information Leaflet (PIL) Corpus\n",
      "  [ ] pl196x.............. Polish language of the XX century sixties\n",
      "  [ ] porter_test......... Porter Stemmer Test Files\n",
      "  [ ] ppattach............ Prepositional Phrase Attachment Corpus\n",
      "  [ ] problem_reports..... Problem Report Corpus\n",
      "  [ ] product_reviews_1... Product Reviews (5 Products)\n",
      "  [ ] product_reviews_2... Product Reviews (9 Products)\n",
      "  [ ] propbank............ Proposition Bank Corpus 1.0\n",
      "  [ ] pros_cons........... Pros and Cons\n",
      "  [ ] ptb................. Penn Treebank\n",
      "  [ ] punkt............... Punkt Tokenizer Models\n",
      "  [ ] qc.................. Experimental Data for Question Classification\n",
      "  [ ] reuters............. The Reuters-21578 benchmark corpus, ApteMod\n",
      "                           version\n",
      "  [ ] rslp................ RSLP Stemmer (Removedor de Sufixos da Lingua\n",
      "                           Portuguesa)\n"
     ]
    },
    {
     "name": "stdout",
     "output_type": "stream",
     "text": "Hit Enter to continue:  "
    },
    {
     "name": "stdout",
     "output_type": "stream",
     "text": [
      "  [ ] rte................. PASCAL RTE Challenges 1, 2, and 3\n",
      "  [ ] sample_grammars..... Sample Grammars\n",
      "  [ ] semcor.............. SemCor 3.0\n",
      "  [ ] senseval............ SENSEVAL 2 Corpus: Sense Tagged Text\n",
      "  [ ] sentence_polarity... Sentence Polarity Dataset v1.0\n",
      "  [ ] sentiwordnet........ SentiWordNet\n",
      "  [ ] shakespeare......... Shakespeare XML Corpus Sample\n",
      "  [ ] sinica_treebank..... Sinica Treebank Corpus Sample\n",
      "  [ ] smultron............ SMULTRON Corpus Sample\n",
      "  [ ] snowball_data....... Snowball Data\n",
      "  [ ] spanish_grammars.... Grammars for Spanish\n",
      "  [ ] state_union......... C-Span State of the Union Address Corpus\n",
      "  [ ] stopwords........... Stopwords Corpus\n",
      "  [ ] subjectivity........ Subjectivity Dataset v1.0\n",
      "  [ ] swadesh............. Swadesh Wordlists\n",
      "  [ ] switchboard......... Switchboard Corpus Sample\n",
      "  [ ] tagsets............. Help on Tagsets\n",
      "  [ ] timit............... TIMIT Corpus Sample\n",
      "  [ ] toolbox............. Toolbox Sample Files\n",
      "  [ ] treebank............ Penn Treebank Sample\n",
      "  [ ] twitter_samples..... Twitter Samples\n"
     ]
    },
    {
     "name": "stdout",
     "output_type": "stream",
     "text": "Hit Enter to continue:  "
    },
    {
     "name": "stdout",
     "output_type": "stream",
     "text": [
      "  [ ] udhr2............... Universal Declaration of Human Rights Corpus\n",
      "                           (Unicode Version)\n",
      "  [ ] udhr................ Universal Declaration of Human Rights Corpus\n",
      "  [ ] unicode_samples..... Unicode Samples\n",
      "  [ ] universal_tagset.... Mappings to the Universal Part-of-Speech Tagset\n",
      "  [ ] universal_treebanks_v20 Universal Treebanks Version 2.0\n",
      "  [ ] vader_lexicon....... VADER Sentiment Lexicon\n",
      "  [ ] verbnet3............ VerbNet Lexicon, Version 3.3\n",
      "  [ ] verbnet............. VerbNet Lexicon, Version 2.1\n",
      "  [ ] webtext............. Web Text Corpus\n",
      "  [ ] wmt15_eval.......... Evaluation data from WMT15\n",
      "  [ ] word2vec_sample..... Word2Vec Sample\n",
      "  [ ] wordnet2021......... Open English Wordnet 2021\n",
      "  [ ] wordnet31........... Wordnet 3.1\n",
      "  [ ] wordnet............. WordNet\n",
      "  [ ] wordnet_ic.......... WordNet-InfoContent\n",
      "  [ ] words............... Word Lists\n",
      "  [ ] ycoe................ York-Toronto-Helsinki Parsed Corpus of Old\n",
      "                           English Prose\n",
      "\n",
      "Collections:\n",
      "  [ ] all-corpora......... All the corpora\n"
     ]
    },
    {
     "name": "stdout",
     "output_type": "stream",
     "text": "Hit Enter to continue:  "
    },
    {
     "name": "stdout",
     "output_type": "stream",
     "text": [
      "  [ ] all-nltk............ All packages available on nltk_data gh-pages\n",
      "                           branch\n",
      "  [ ] all................. All packages\n",
      "  [ ] book................ Everything used in the NLTK Book\n",
      "  [ ] popular............. Popular packages\n",
      "  [ ] tests............... Packages for running tests\n",
      "  [ ] third-party......... Third-party data packages\n",
      "\n",
      "([*] marks installed packages)\n",
      "\n",
      "---------------------------------------------------------------------------\n",
      "    d) Download   l) List    u) Update   c) Config   h) Help   q) Quit\n",
      "---------------------------------------------------------------------------\n"
     ]
    },
    {
     "name": "stdout",
     "output_type": "stream",
     "text": "Downloader>  d"
    },
    {
     "name": "stdout",
     "output_type": "stream",
     "text": "  Identifier>  "
    },
    {
     "name": "stdout",
     "output_type": "stream",
     "text": [
      "\n",
      "Download which package (l=list; x=cancel)?\n"
     ],
     "value": "words"
    },
    {
     "name": "stderr",
     "output_type": "stream",
     "text": [
      "    Downloading package words to /home/user/nltk_data...\n",
      "      Unzipping corpora/words.zip.\n"
     ]
    },
    {
     "name": "stdout",
     "output_type": "stream",
     "text": [
      "\n",
      "---------------------------------------------------------------------------\n",
      "    d) Download   l) List    u) Update   c) Config   h) Help   q) Quit\n",
      "---------------------------------------------------------------------------\n"
     ]
    },
    {
     "name": "stdout",
     "output_type": "stream",
     "text": "Downloader>  q"
    }
   ],
   "source": [
    "import nltk\n",
    "nltk.download()"
   ]
  },
  {
   "cell_type": "code",
   "execution_count": 0,
   "metadata": {
    "collapsed": false
   },
   "outputs": [
   ],
   "source": [
   ]
  }
 ],
 "metadata": {
  "kernelspec": {
   "display_name": "Python 3 (system-wide)",
   "language": "python",
   "metadata": {
    "cocalc": {
     "description": "Python 3 programming language",
     "priority": 100,
     "url": "https://www.python.org/"
    }
   },
   "name": "python3",
   "resource_dir": "/ext/jupyter/kernels/python3"
  },
  "language_info": {
   "codemirror_mode": {
    "name": "ipython",
    "version": 3
   },
   "file_extension": ".py",
   "mimetype": "text/x-python",
   "name": "python",
   "nbconvert_exporter": "python",
   "pygments_lexer": "ipython3",
   "version": "3.8.10"
  }
 },
 "nbformat": 4,
 "nbformat_minor": 4
}